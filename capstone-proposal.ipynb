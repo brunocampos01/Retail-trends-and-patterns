{
 "cells": [
  {
   "cell_type": "markdown",
   "metadata": {},
   "source": [
    "# Nanodegree Engenheiro de Machine Learning\n",
    "## Proposta de projeto final\n",
    "Bruno Aurélio Rôzza de Moura Campos \n",
    "10 de dezembro de 2018\n",
    "\n",
    "## Proposta"
   ]
  },
  {
   "cell_type": "markdown",
   "metadata": {},
   "source": [
    "### Histórico do assunto\n",
    "O aprendizado supervisionado é a área de pesquisa mais explorada dentro de machine learning, reflexo disso são as aplicações comerciais como por exemplo, árvores de decisão para sistemas de recomendação. Os usuários que consomem esses serviços comerciais já são afetados por técnicas de machine learning. Contudo, nem todos os serviços exploram seus dados gerados para obter insights e assim melhorar a qualidade para os usuários finais.<br/>\n",
    "Um dos fatores que mais afeta os clientes ao consumir um serviços é o atraso. Para reduzir o período de espera, as organizações podem usar algoritmos de aprendizado supervisionado, isso não apenas ajudará os clientes, mas também permitirá que as empresas se concentrem em outras coisas que exigem intervenção humana regular.<br/>\n",
    "Devido a estes fatores, a minha motivação pessoal é utilizar técnicas de aprendizado supervisionado para otimizar tarefas recorrentes de atendimento ao cliente e assim aproveitar melhor o tempo.<br/>\n",
    "A fonte de dados será: https://www.kaggle.com/c/allstate-claims-severity/data\n",
    "\n",
    "\n",
    "### Descrição do problema\n",
    "\n",
    "A Allstate Corporation é a segunda maior seguradora de linhas pessoais nos Estados Unidos e a maior que é de capital aberto. Devido ao seu tamanho grande, eles têm que lidar com um grande número de reclamações que leva tempo quando feito por um ser humano.<br/>\n",
    "Atualmente, a Allstate está desenvolvendo métodos automatizados para prever o custo e, portanto, a gravidade das reclamações. O problema é criar um algoritmo que prevê com precisão a gravidade das reivindicações. Como entrada, nós recebemos diferentes variáveis que os agentes examinam para decidir o status das reivindicações. Eles podem ser contínuos ou discretos.Como a variável de destino é uma quantidade contínua (o valor a ser pago ao cliente), é essencialmente uma função de regressão.\n",
    "\n",
    "### Conjuntos de dados e entradas\n",
    "\n",
    "O conjunto de dados contém 2 arquivos .csv com informações necessárias para fazer uma previsão. Eles são:<br/>\n",
    "1. Variáveis em train.csv e test.csv:\n",
    " - **id**: o id de um par de perguntas do conjunto de treinamento\n",
    " - **cat1** até **cat116**: variáveis de categoria (o intervalo de valores não é fornecido, nem os nomes das colunas).\n",
    " - **cont1** até **cont14**: variáveis contínuas (o intervalo de valores não é fornecido, nem os nomes das colunas).\n",
    " - **loss**: o valor que a empresa tem que pagar por uma determinada reivindicação. Esta é a variável de destino. - Em test.csv, a perda não está presente, já que vamos prever isso.\n",
    "\n",
    "\n",
    "2. Em train.csv:\n",
    " - Número de linhas = 188318\n",
    " - Número de colunas = 132\n",
    " - Altamente relevante, pois são os dados sobre os quais vamos treinar.\n",
    "<br/>\n",
    "3. Em test.csv:\n",
    " - Número de linhas = 125546\n",
    " - Número de colunas = 131\n",
    " - Altamente relevante, pois são os dados que testamos."
   ]
  },
  {
   "cell_type": "markdown",
   "metadata": {},
   "source": [
    "### Descrição da solução\n",
    "\n",
    "Queremos entender a relação entre as _features_ de 130 (116 + 14) com a variável _loss_. \n",
    " Há _features_ que, devido à maldição da dimensionalidade, podem resultar em _overfitting_. Para facilitar os trabalhos podemos fazer um redução de _features_ usando o PCA.\n",
    "Também será fundamental encontrar as correlações entre as _features_ para selecionar os melhores resultados. \n",
    "Nestas etapa de exploração de dados será convertido valores categóricos de alfabetos em números que podem ser mais fáceis de serem processados.\n",
    "Em seguida, será realizado testes com modelos de machine learning para verificar qual tem melhor performace usando a divisão do Kfold e, finalmente, obteremos o erro médio quadrático. <br/>\n",
    "Os modelos testados serão: regressão linear, XGBoost e Random Forest (Bagging). Para ajustar os parâmetros no XGBoost, usaremos Grid Search.\n",
    "\n",
    "\n",
    "### Modelo de referência (benchmark)\n",
    "\n",
    "A fonte de dados é provinda de uma competição do Kaggle, então o modelo de referência será escolhido como a melhor pontuação da competição para o conjunto de teste, que aparece em 1109.70772 erro médio absoluto (menor é melhor).<br/>\n",
    "Seŕa testado e executado os modelos de regressão linear, XGBoost e Random Forest (Bagging) no conjunto de testes fornecido nesta competição do Kaggle. O arquivo de submissão será enviado ao site do kaggle para verificar a pontuação. Então, também podemos comparar nosso modelo com o modelo de benchmark hospedado pela Kaggle. <br/>\n",
    "Um objeto para este trabalho é ser ranqueado entre os 30% melhores resultados, ou seja menos de 1442,620036 erro da tabela.\n",
    "\n",
    "\n",
    "\n",
    "### Métricas de avaliação\n",
    "\n",
    "A predição do modelo para este problema pode ser avaliada de várias maneiras. Como a avaliação oficial deste projeto é feita por Kaggle usando erro absoluto médio, o mesmo será usado para avaliação de modelos.\n",
    "\n",
    "### Design do projeto\n",
    "\n",
    "Para desenvolver o projeto será necessário primeiramente explorar os dados fornecidos pela competição. Na sequencia será feito a limpeza dos dados, converteção das _features_ categóricos de alfabetos em números. Em seguida, será feito um _feature engineer_ para um conjunto de validação cruzada afim encontrar melhores correlações entre as _features_.<br/>\n",
    "Depois que os dados forem modelados será testado os modelos. Primeiro modelo a ser criado é o de regressão linear, desta forma teremos uma algoritmo linear. O segundo modelo será o de XGBoost. Por fim, o terceiro modelo o será o de Random Forest, pois assim teremos um algotimo de bagging. Depois de comparar estes 3 modelos será analisado qual tem o menor erro absoluto médio, em seguida será submetido para a competição no Kaggle.\n",
    "\n",
    "### Bibliografia\n",
    "\n",
    "[1] Kaggle, ”Allstate Claims Severity” (2016). https://www.kaggle.com/c/allstate-claims-severity, acessado em 18/12/2018.\n",
    "\n",
    "[2]machinelearningmastery, \"Bagging and Random Forest Ensemble Algorithms for Machine Learning\",(2016). https://machinelearningmastery.com/bagging-and-random-forest-ensemble-algorithms-for-machine-learning/, acesso em 10/12/2018.\n",
    "\n",
    "[3] aws, \"Algoritmo XGBoost\"(2018). https://docs.aws.amazon.com/pt_br/sagemaker/latest/dg/xgboost.html, acesso em 10/12/2018."
   ]
  }
 ],
 "metadata": {
  "kernelspec": {
   "display_name": "Python 3",
   "language": "python",
   "name": "python3"
  },
  "language_info": {
   "codemirror_mode": {
    "name": "ipython",
    "version": 3
   },
   "file_extension": ".py",
   "mimetype": "text/x-python",
   "name": "python",
   "nbconvert_exporter": "python",
   "pygments_lexer": "ipython3",
   "version": "3.6.7"
  },
  "latex_envs": {
   "LaTeX_envs_menu_present": true,
   "autoclose": false,
   "autocomplete": true,
   "bibliofile": "biblio.bib",
   "cite_by": "apalike",
   "current_citInitial": 1,
   "eqLabelWithNumbers": true,
   "eqNumInitial": 1,
   "hotkeys": {
    "equation": "Ctrl-E",
    "itemize": "Ctrl-I"
   },
   "labels_anchors": false,
   "latex_user_defs": false,
   "report_style_numbering": false,
   "user_envs_cfg": false
  }
 },
 "nbformat": 4,
 "nbformat_minor": 2
}
